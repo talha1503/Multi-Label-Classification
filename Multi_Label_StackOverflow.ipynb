{
  "nbformat": 4,
  "nbformat_minor": 0,
  "metadata": {
    "colab": {
      "name": "Multi_Label_StackOverflow.ipynb",
      "provenance": [],
      "collapsed_sections": [],
      "machine_shape": "hm",
      "include_colab_link": true
    },
    "kernelspec": {
      "name": "python3",
      "display_name": "Python 3"
    },
    "accelerator": "GPU"
  },
  "cells": [
    {
      "cell_type": "markdown",
      "metadata": {
        "id": "view-in-github",
        "colab_type": "text"
      },
      "source": [
        "<a href=\"https://colab.research.google.com/github/talha1503/Multi-Label-Classification/blob/master/Multi_Label_StackOverflow.ipynb\" target=\"_parent\"><img src=\"https://colab.research.google.com/assets/colab-badge.svg\" alt=\"Open In Colab\"/></a>"
      ]
    },
    {
      "cell_type": "code",
      "metadata": {
        "id": "7tkuWM_AfJIx",
        "colab_type": "code",
        "outputId": "394dde4a-8992-4468-aeb2-d17befabb622",
        "colab": {
          "base_uri": "https://localhost:8080/",
          "height": 121
        }
      },
      "source": [
        "from google.colab import drive\n",
        "drive.mount('/content/drive')"
      ],
      "execution_count": 1,
      "outputs": [
        {
          "output_type": "stream",
          "text": [
            "Go to this URL in a browser: https://accounts.google.com/o/oauth2/auth?client_id=947318989803-6bn6qk8qdgf4n4g3pfee6491hc0brc4i.apps.googleusercontent.com&redirect_uri=urn%3Aietf%3Awg%3Aoauth%3A2.0%3Aoob&scope=email%20https%3A%2F%2Fwww.googleapis.com%2Fauth%2Fdocs.test%20https%3A%2F%2Fwww.googleapis.com%2Fauth%2Fdrive%20https%3A%2F%2Fwww.googleapis.com%2Fauth%2Fdrive.photos.readonly%20https%3A%2F%2Fwww.googleapis.com%2Fauth%2Fpeopleapi.readonly&response_type=code\n",
            "\n",
            "Enter your authorization code:\n",
            "··········\n",
            "Mounted at /content/drive\n"
          ],
          "name": "stdout"
        }
      ]
    },
    {
      "cell_type": "code",
      "metadata": {
        "id": "YSAshpVJfJsx",
        "colab_type": "code",
        "colab": {}
      },
      "source": [
        "import numpy as np\n",
        "import pandas as pd\n",
        "import matplotlib.pyplot as plt\n"
      ],
      "execution_count": 0,
      "outputs": []
    },
    {
      "cell_type": "code",
      "metadata": {
        "id": "QSCKAt4qfVYz",
        "colab_type": "code",
        "outputId": "0bde1b01-462a-4e10-a2c4-d8bc893692d6",
        "colab": {
          "base_uri": "https://localhost:8080/",
          "height": 195
        }
      },
      "source": [
        "header = ['Questions','python','css','java','web-scraping','git','javascript','reactjs','node.js','jquery','php','flask']\n",
        "data = pd.read_csv('drive/My Drive/Datasets/dataset.csv',names=header)\n",
        "data.head()"
      ],
      "execution_count": 3,
      "outputs": [
        {
          "output_type": "execute_result",
          "data": {
            "text/html": [
              "<div>\n",
              "<style scoped>\n",
              "    .dataframe tbody tr th:only-of-type {\n",
              "        vertical-align: middle;\n",
              "    }\n",
              "\n",
              "    .dataframe tbody tr th {\n",
              "        vertical-align: top;\n",
              "    }\n",
              "\n",
              "    .dataframe thead th {\n",
              "        text-align: right;\n",
              "    }\n",
              "</style>\n",
              "<table border=\"1\" class=\"dataframe\">\n",
              "  <thead>\n",
              "    <tr style=\"text-align: right;\">\n",
              "      <th></th>\n",
              "      <th>Questions</th>\n",
              "      <th>python</th>\n",
              "      <th>css</th>\n",
              "      <th>java</th>\n",
              "      <th>web-scraping</th>\n",
              "      <th>git</th>\n",
              "      <th>javascript</th>\n",
              "      <th>reactjs</th>\n",
              "      <th>node.js</th>\n",
              "      <th>jquery</th>\n",
              "      <th>php</th>\n",
              "      <th>flask</th>\n",
              "    </tr>\n",
              "  </thead>\n",
              "  <tbody>\n",
              "    <tr>\n",
              "      <th>0</th>\n",
              "      <td>Questions\\t%python\\t%20css\\t%20java\\t%20web-sc...</td>\n",
              "      <td>NaN</td>\n",
              "      <td>NaN</td>\n",
              "      <td>NaN</td>\n",
              "      <td>NaN</td>\n",
              "      <td>NaN</td>\n",
              "      <td>NaN</td>\n",
              "      <td>NaN</td>\n",
              "      <td>NaN</td>\n",
              "      <td>NaN</td>\n",
              "      <td>NaN</td>\n",
              "      <td>NaN</td>\n",
              "    </tr>\n",
              "    <tr>\n",
              "      <th>1</th>\n",
              "      <td>How do I redirect to another webpage?</td>\n",
              "      <td>0.0</td>\n",
              "      <td>0.0</td>\n",
              "      <td>0.0</td>\n",
              "      <td>0.0</td>\n",
              "      <td>0.0</td>\n",
              "      <td>0.0</td>\n",
              "      <td>0.0</td>\n",
              "      <td>0.0</td>\n",
              "      <td>1.0</td>\n",
              "      <td>0.0</td>\n",
              "      <td>0.0</td>\n",
              "    </tr>\n",
              "    <tr>\n",
              "      <th>2</th>\n",
              "      <td>How do I check if an element is hidden in jQuery?</td>\n",
              "      <td>0.0</td>\n",
              "      <td>0.0</td>\n",
              "      <td>0.0</td>\n",
              "      <td>0.0</td>\n",
              "      <td>0.0</td>\n",
              "      <td>0.0</td>\n",
              "      <td>0.0</td>\n",
              "      <td>0.0</td>\n",
              "      <td>1.0</td>\n",
              "      <td>0.0</td>\n",
              "      <td>0.0</td>\n",
              "    </tr>\n",
              "    <tr>\n",
              "      <th>3</th>\n",
              "      <td>How do I return the response from an asynchron...</td>\n",
              "      <td>0.0</td>\n",
              "      <td>0.0</td>\n",
              "      <td>0.0</td>\n",
              "      <td>0.0</td>\n",
              "      <td>0.0</td>\n",
              "      <td>0.0</td>\n",
              "      <td>0.0</td>\n",
              "      <td>0.0</td>\n",
              "      <td>1.0</td>\n",
              "      <td>0.0</td>\n",
              "      <td>0.0</td>\n",
              "    </tr>\n",
              "    <tr>\n",
              "      <th>4</th>\n",
              "      <td>“Thinking in AngularJS” if I have a jQuery bac...</td>\n",
              "      <td>0.0</td>\n",
              "      <td>0.0</td>\n",
              "      <td>0.0</td>\n",
              "      <td>0.0</td>\n",
              "      <td>0.0</td>\n",
              "      <td>0.0</td>\n",
              "      <td>0.0</td>\n",
              "      <td>0.0</td>\n",
              "      <td>1.0</td>\n",
              "      <td>0.0</td>\n",
              "      <td>0.0</td>\n",
              "    </tr>\n",
              "  </tbody>\n",
              "</table>\n",
              "</div>"
            ],
            "text/plain": [
              "                                           Questions  python  ...  php  flask\n",
              "0  Questions\\t%python\\t%20css\\t%20java\\t%20web-sc...     NaN  ...  NaN    NaN\n",
              "1              How do I redirect to another webpage?     0.0  ...  0.0    0.0\n",
              "2  How do I check if an element is hidden in jQuery?     0.0  ...  0.0    0.0\n",
              "3  How do I return the response from an asynchron...     0.0  ...  0.0    0.0\n",
              "4  “Thinking in AngularJS” if I have a jQuery bac...     0.0  ...  0.0    0.0\n",
              "\n",
              "[5 rows x 12 columns]"
            ]
          },
          "metadata": {
            "tags": []
          },
          "execution_count": 3
        }
      ]
    },
    {
      "cell_type": "code",
      "metadata": {
        "id": "uh1x7Z11fiF8",
        "colab_type": "code",
        "colab": {}
      },
      "source": [
        "data.drop(data.index[0],inplace=True)"
      ],
      "execution_count": 0,
      "outputs": []
    },
    {
      "cell_type": "code",
      "metadata": {
        "id": "gBJCWFT0gk9z",
        "colab_type": "code",
        "outputId": "3d056596-5faa-42f8-b3c0-c6caa872f966",
        "colab": {
          "base_uri": "https://localhost:8080/",
          "height": 195
        }
      },
      "source": [
        "data = data.sample(frac=1).reset_index(drop=True)   #shuffling the data\n",
        "data.head()"
      ],
      "execution_count": 5,
      "outputs": [
        {
          "output_type": "execute_result",
          "data": {
            "text/html": [
              "<div>\n",
              "<style scoped>\n",
              "    .dataframe tbody tr th:only-of-type {\n",
              "        vertical-align: middle;\n",
              "    }\n",
              "\n",
              "    .dataframe tbody tr th {\n",
              "        vertical-align: top;\n",
              "    }\n",
              "\n",
              "    .dataframe thead th {\n",
              "        text-align: right;\n",
              "    }\n",
              "</style>\n",
              "<table border=\"1\" class=\"dataframe\">\n",
              "  <thead>\n",
              "    <tr style=\"text-align: right;\">\n",
              "      <th></th>\n",
              "      <th>Questions</th>\n",
              "      <th>python</th>\n",
              "      <th>css</th>\n",
              "      <th>java</th>\n",
              "      <th>web-scraping</th>\n",
              "      <th>git</th>\n",
              "      <th>javascript</th>\n",
              "      <th>reactjs</th>\n",
              "      <th>node.js</th>\n",
              "      <th>jquery</th>\n",
              "      <th>php</th>\n",
              "      <th>flask</th>\n",
              "    </tr>\n",
              "  </thead>\n",
              "  <tbody>\n",
              "    <tr>\n",
              "      <th>0</th>\n",
              "      <td>jQuery Ajax request inside Ajax request not wo...</td>\n",
              "      <td>0.0</td>\n",
              "      <td>0.0</td>\n",
              "      <td>1.0</td>\n",
              "      <td>0.0</td>\n",
              "      <td>1.0</td>\n",
              "      <td>1.0</td>\n",
              "      <td>1.0</td>\n",
              "      <td>0.0</td>\n",
              "      <td>1.0</td>\n",
              "      <td>1.0</td>\n",
              "      <td>1.0</td>\n",
              "    </tr>\n",
              "    <tr>\n",
              "      <th>1</th>\n",
              "      <td>all image object changing in one css after click</td>\n",
              "      <td>0.0</td>\n",
              "      <td>1.0</td>\n",
              "      <td>1.0</td>\n",
              "      <td>0.0</td>\n",
              "      <td>0.0</td>\n",
              "      <td>1.0</td>\n",
              "      <td>0.0</td>\n",
              "      <td>0.0</td>\n",
              "      <td>0.0</td>\n",
              "      <td>0.0</td>\n",
              "      <td>0.0</td>\n",
              "    </tr>\n",
              "    <tr>\n",
              "      <th>2</th>\n",
              "      <td>Error while pushing to Heroku: Cannot find mod...</td>\n",
              "      <td>0.0</td>\n",
              "      <td>0.0</td>\n",
              "      <td>1.0</td>\n",
              "      <td>1.0</td>\n",
              "      <td>1.0</td>\n",
              "      <td>1.0</td>\n",
              "      <td>1.0</td>\n",
              "      <td>1.0</td>\n",
              "      <td>0.0</td>\n",
              "      <td>0.0</td>\n",
              "      <td>0.0</td>\n",
              "    </tr>\n",
              "    <tr>\n",
              "      <th>3</th>\n",
              "      <td>Scraping data from all asp.net pages with AJAX...</td>\n",
              "      <td>0.0</td>\n",
              "      <td>0.0</td>\n",
              "      <td>0.0</td>\n",
              "      <td>1.0</td>\n",
              "      <td>0.0</td>\n",
              "      <td>0.0</td>\n",
              "      <td>0.0</td>\n",
              "      <td>0.0</td>\n",
              "      <td>0.0</td>\n",
              "      <td>1.0</td>\n",
              "      <td>0.0</td>\n",
              "    </tr>\n",
              "    <tr>\n",
              "      <th>4</th>\n",
              "      <td>How do I remove a particular element from an a...</td>\n",
              "      <td>0.0</td>\n",
              "      <td>0.0</td>\n",
              "      <td>0.0</td>\n",
              "      <td>0.0</td>\n",
              "      <td>0.0</td>\n",
              "      <td>1.0</td>\n",
              "      <td>0.0</td>\n",
              "      <td>0.0</td>\n",
              "      <td>0.0</td>\n",
              "      <td>0.0</td>\n",
              "      <td>0.0</td>\n",
              "    </tr>\n",
              "  </tbody>\n",
              "</table>\n",
              "</div>"
            ],
            "text/plain": [
              "                                           Questions  python  ...  php  flask\n",
              "0  jQuery Ajax request inside Ajax request not wo...     0.0  ...  1.0    1.0\n",
              "1   all image object changing in one css after click     0.0  ...  0.0    0.0\n",
              "2  Error while pushing to Heroku: Cannot find mod...     0.0  ...  0.0    0.0\n",
              "3  Scraping data from all asp.net pages with AJAX...     0.0  ...  1.0    0.0\n",
              "4  How do I remove a particular element from an a...     0.0  ...  0.0    0.0\n",
              "\n",
              "[5 rows x 12 columns]"
            ]
          },
          "metadata": {
            "tags": []
          },
          "execution_count": 5
        }
      ]
    },
    {
      "cell_type": "code",
      "metadata": {
        "id": "V07hIVyOhS-8",
        "colab_type": "code",
        "outputId": "df48e8d9-a7ab-471e-f44b-a49624885716",
        "colab": {
          "base_uri": "https://localhost:8080/",
          "height": 302
        }
      },
      "source": [
        "data.info()"
      ],
      "execution_count": 6,
      "outputs": [
        {
          "output_type": "stream",
          "text": [
            "<class 'pandas.core.frame.DataFrame'>\n",
            "RangeIndex: 100042 entries, 0 to 100041\n",
            "Data columns (total 12 columns):\n",
            "Questions       100042 non-null object\n",
            "python          100042 non-null float64\n",
            "css             100042 non-null float64\n",
            "java            100042 non-null float64\n",
            "web-scraping    100042 non-null float64\n",
            "git             100042 non-null float64\n",
            "javascript      100042 non-null float64\n",
            "reactjs         100042 non-null float64\n",
            "node.js         100042 non-null float64\n",
            "jquery          100042 non-null float64\n",
            "php             100042 non-null float64\n",
            "flask           100042 non-null float64\n",
            "dtypes: float64(11), object(1)\n",
            "memory usage: 9.2+ MB\n"
          ],
          "name": "stdout"
        }
      ]
    },
    {
      "cell_type": "code",
      "metadata": {
        "id": "Ezs1wsDbhV9E",
        "colab_type": "code",
        "outputId": "b62494d6-474e-49ad-8d04-6dddd7fea089",
        "colab": {
          "base_uri": "https://localhost:8080/",
          "height": 402
        }
      },
      "source": [
        "data.fillna(0)"
      ],
      "execution_count": 7,
      "outputs": [
        {
          "output_type": "execute_result",
          "data": {
            "text/html": [
              "<div>\n",
              "<style scoped>\n",
              "    .dataframe tbody tr th:only-of-type {\n",
              "        vertical-align: middle;\n",
              "    }\n",
              "\n",
              "    .dataframe tbody tr th {\n",
              "        vertical-align: top;\n",
              "    }\n",
              "\n",
              "    .dataframe thead th {\n",
              "        text-align: right;\n",
              "    }\n",
              "</style>\n",
              "<table border=\"1\" class=\"dataframe\">\n",
              "  <thead>\n",
              "    <tr style=\"text-align: right;\">\n",
              "      <th></th>\n",
              "      <th>Questions</th>\n",
              "      <th>python</th>\n",
              "      <th>css</th>\n",
              "      <th>java</th>\n",
              "      <th>web-scraping</th>\n",
              "      <th>git</th>\n",
              "      <th>javascript</th>\n",
              "      <th>reactjs</th>\n",
              "      <th>node.js</th>\n",
              "      <th>jquery</th>\n",
              "      <th>php</th>\n",
              "      <th>flask</th>\n",
              "    </tr>\n",
              "  </thead>\n",
              "  <tbody>\n",
              "    <tr>\n",
              "      <th>0</th>\n",
              "      <td>jQuery Ajax request inside Ajax request not wo...</td>\n",
              "      <td>0.0</td>\n",
              "      <td>0.0</td>\n",
              "      <td>1.0</td>\n",
              "      <td>0.0</td>\n",
              "      <td>1.0</td>\n",
              "      <td>1.0</td>\n",
              "      <td>1.0</td>\n",
              "      <td>0.0</td>\n",
              "      <td>1.0</td>\n",
              "      <td>1.0</td>\n",
              "      <td>1.0</td>\n",
              "    </tr>\n",
              "    <tr>\n",
              "      <th>1</th>\n",
              "      <td>all image object changing in one css after click</td>\n",
              "      <td>0.0</td>\n",
              "      <td>1.0</td>\n",
              "      <td>1.0</td>\n",
              "      <td>0.0</td>\n",
              "      <td>0.0</td>\n",
              "      <td>1.0</td>\n",
              "      <td>0.0</td>\n",
              "      <td>0.0</td>\n",
              "      <td>0.0</td>\n",
              "      <td>0.0</td>\n",
              "      <td>0.0</td>\n",
              "    </tr>\n",
              "    <tr>\n",
              "      <th>2</th>\n",
              "      <td>Error while pushing to Heroku: Cannot find mod...</td>\n",
              "      <td>0.0</td>\n",
              "      <td>0.0</td>\n",
              "      <td>1.0</td>\n",
              "      <td>1.0</td>\n",
              "      <td>1.0</td>\n",
              "      <td>1.0</td>\n",
              "      <td>1.0</td>\n",
              "      <td>1.0</td>\n",
              "      <td>0.0</td>\n",
              "      <td>0.0</td>\n",
              "      <td>0.0</td>\n",
              "    </tr>\n",
              "    <tr>\n",
              "      <th>3</th>\n",
              "      <td>Scraping data from all asp.net pages with AJAX...</td>\n",
              "      <td>0.0</td>\n",
              "      <td>0.0</td>\n",
              "      <td>0.0</td>\n",
              "      <td>1.0</td>\n",
              "      <td>0.0</td>\n",
              "      <td>0.0</td>\n",
              "      <td>0.0</td>\n",
              "      <td>0.0</td>\n",
              "      <td>0.0</td>\n",
              "      <td>1.0</td>\n",
              "      <td>0.0</td>\n",
              "    </tr>\n",
              "    <tr>\n",
              "      <th>4</th>\n",
              "      <td>How do I remove a particular element from an a...</td>\n",
              "      <td>0.0</td>\n",
              "      <td>0.0</td>\n",
              "      <td>0.0</td>\n",
              "      <td>0.0</td>\n",
              "      <td>0.0</td>\n",
              "      <td>1.0</td>\n",
              "      <td>0.0</td>\n",
              "      <td>0.0</td>\n",
              "      <td>0.0</td>\n",
              "      <td>0.0</td>\n",
              "      <td>0.0</td>\n",
              "    </tr>\n",
              "    <tr>\n",
              "      <th>...</th>\n",
              "      <td>...</td>\n",
              "      <td>...</td>\n",
              "      <td>...</td>\n",
              "      <td>...</td>\n",
              "      <td>...</td>\n",
              "      <td>...</td>\n",
              "      <td>...</td>\n",
              "      <td>...</td>\n",
              "      <td>...</td>\n",
              "      <td>...</td>\n",
              "      <td>...</td>\n",
              "      <td>...</td>\n",
              "    </tr>\n",
              "    <tr>\n",
              "      <th>100037</th>\n",
              "      <td>Callback with jQuery .get() function</td>\n",
              "      <td>0.0</td>\n",
              "      <td>0.0</td>\n",
              "      <td>1.0</td>\n",
              "      <td>1.0</td>\n",
              "      <td>0.0</td>\n",
              "      <td>1.0</td>\n",
              "      <td>1.0</td>\n",
              "      <td>1.0</td>\n",
              "      <td>1.0</td>\n",
              "      <td>0.0</td>\n",
              "      <td>0.0</td>\n",
              "    </tr>\n",
              "    <tr>\n",
              "      <th>100038</th>\n",
              "      <td>How to pass props to a React Component at the ...</td>\n",
              "      <td>0.0</td>\n",
              "      <td>1.0</td>\n",
              "      <td>1.0</td>\n",
              "      <td>0.0</td>\n",
              "      <td>1.0</td>\n",
              "      <td>1.0</td>\n",
              "      <td>1.0</td>\n",
              "      <td>0.0</td>\n",
              "      <td>1.0</td>\n",
              "      <td>0.0</td>\n",
              "      <td>1.0</td>\n",
              "    </tr>\n",
              "    <tr>\n",
              "      <th>100039</th>\n",
              "      <td>RESTEasy client API file upload to python/Flask</td>\n",
              "      <td>0.0</td>\n",
              "      <td>0.0</td>\n",
              "      <td>1.0</td>\n",
              "      <td>0.0</td>\n",
              "      <td>0.0</td>\n",
              "      <td>0.0</td>\n",
              "      <td>0.0</td>\n",
              "      <td>0.0</td>\n",
              "      <td>0.0</td>\n",
              "      <td>0.0</td>\n",
              "      <td>1.0</td>\n",
              "    </tr>\n",
              "    <tr>\n",
              "      <th>100040</th>\n",
              "      <td>Remove empty array elements</td>\n",
              "      <td>0.0</td>\n",
              "      <td>0.0</td>\n",
              "      <td>0.0</td>\n",
              "      <td>0.0</td>\n",
              "      <td>0.0</td>\n",
              "      <td>0.0</td>\n",
              "      <td>0.0</td>\n",
              "      <td>0.0</td>\n",
              "      <td>0.0</td>\n",
              "      <td>1.0</td>\n",
              "      <td>0.0</td>\n",
              "    </tr>\n",
              "    <tr>\n",
              "      <th>100041</th>\n",
              "      <td>Unable to access Flask web app from php curl</td>\n",
              "      <td>0.0</td>\n",
              "      <td>0.0</td>\n",
              "      <td>1.0</td>\n",
              "      <td>0.0</td>\n",
              "      <td>1.0</td>\n",
              "      <td>1.0</td>\n",
              "      <td>0.0</td>\n",
              "      <td>1.0</td>\n",
              "      <td>0.0</td>\n",
              "      <td>1.0</td>\n",
              "      <td>1.0</td>\n",
              "    </tr>\n",
              "  </tbody>\n",
              "</table>\n",
              "<p>100042 rows × 12 columns</p>\n",
              "</div>"
            ],
            "text/plain": [
              "                                                Questions  python  ...  php  flask\n",
              "0       jQuery Ajax request inside Ajax request not wo...     0.0  ...  1.0    1.0\n",
              "1        all image object changing in one css after click     0.0  ...  0.0    0.0\n",
              "2       Error while pushing to Heroku: Cannot find mod...     0.0  ...  0.0    0.0\n",
              "3       Scraping data from all asp.net pages with AJAX...     0.0  ...  1.0    0.0\n",
              "4       How do I remove a particular element from an a...     0.0  ...  0.0    0.0\n",
              "...                                                   ...     ...  ...  ...    ...\n",
              "100037               Callback with jQuery .get() function     0.0  ...  0.0    0.0\n",
              "100038  How to pass props to a React Component at the ...     0.0  ...  0.0    1.0\n",
              "100039    RESTEasy client API file upload to python/Flask     0.0  ...  0.0    1.0\n",
              "100040                        Remove empty array elements     0.0  ...  1.0    0.0\n",
              "100041       Unable to access Flask web app from php curl     0.0  ...  1.0    1.0\n",
              "\n",
              "[100042 rows x 12 columns]"
            ]
          },
          "metadata": {
            "tags": []
          },
          "execution_count": 7
        }
      ]
    },
    {
      "cell_type": "code",
      "metadata": {
        "id": "5913JuXwhscf",
        "colab_type": "code",
        "outputId": "7f32bb8d-6a94-4b6b-9b06-59d741c95a6e",
        "colab": {
          "base_uri": "https://localhost:8080/",
          "height": 284
        }
      },
      "source": [
        "data.describe()"
      ],
      "execution_count": 8,
      "outputs": [
        {
          "output_type": "execute_result",
          "data": {
            "text/html": [
              "<div>\n",
              "<style scoped>\n",
              "    .dataframe tbody tr th:only-of-type {\n",
              "        vertical-align: middle;\n",
              "    }\n",
              "\n",
              "    .dataframe tbody tr th {\n",
              "        vertical-align: top;\n",
              "    }\n",
              "\n",
              "    .dataframe thead th {\n",
              "        text-align: right;\n",
              "    }\n",
              "</style>\n",
              "<table border=\"1\" class=\"dataframe\">\n",
              "  <thead>\n",
              "    <tr style=\"text-align: right;\">\n",
              "      <th></th>\n",
              "      <th>python</th>\n",
              "      <th>css</th>\n",
              "      <th>java</th>\n",
              "      <th>web-scraping</th>\n",
              "      <th>git</th>\n",
              "      <th>javascript</th>\n",
              "      <th>reactjs</th>\n",
              "      <th>node.js</th>\n",
              "      <th>jquery</th>\n",
              "      <th>php</th>\n",
              "      <th>flask</th>\n",
              "    </tr>\n",
              "  </thead>\n",
              "  <tbody>\n",
              "    <tr>\n",
              "      <th>count</th>\n",
              "      <td>100042.0</td>\n",
              "      <td>100042.000000</td>\n",
              "      <td>100042.000000</td>\n",
              "      <td>100042.000000</td>\n",
              "      <td>100042.000000</td>\n",
              "      <td>100042.000000</td>\n",
              "      <td>100042.000000</td>\n",
              "      <td>100042.000000</td>\n",
              "      <td>100042.000000</td>\n",
              "      <td>100042.000000</td>\n",
              "      <td>100042.000000</td>\n",
              "    </tr>\n",
              "    <tr>\n",
              "      <th>mean</th>\n",
              "      <td>0.0</td>\n",
              "      <td>0.375002</td>\n",
              "      <td>0.367975</td>\n",
              "      <td>0.296076</td>\n",
              "      <td>0.303113</td>\n",
              "      <td>0.423492</td>\n",
              "      <td>0.355601</td>\n",
              "      <td>0.378031</td>\n",
              "      <td>0.387707</td>\n",
              "      <td>0.383519</td>\n",
              "      <td>0.288129</td>\n",
              "    </tr>\n",
              "    <tr>\n",
              "      <th>std</th>\n",
              "      <td>0.0</td>\n",
              "      <td>0.484126</td>\n",
              "      <td>0.482257</td>\n",
              "      <td>0.456527</td>\n",
              "      <td>0.459606</td>\n",
              "      <td>0.494114</td>\n",
              "      <td>0.478697</td>\n",
              "      <td>0.484898</td>\n",
              "      <td>0.487230</td>\n",
              "      <td>0.486245</td>\n",
              "      <td>0.452894</td>\n",
              "    </tr>\n",
              "    <tr>\n",
              "      <th>min</th>\n",
              "      <td>0.0</td>\n",
              "      <td>0.000000</td>\n",
              "      <td>0.000000</td>\n",
              "      <td>0.000000</td>\n",
              "      <td>0.000000</td>\n",
              "      <td>0.000000</td>\n",
              "      <td>0.000000</td>\n",
              "      <td>0.000000</td>\n",
              "      <td>0.000000</td>\n",
              "      <td>0.000000</td>\n",
              "      <td>0.000000</td>\n",
              "    </tr>\n",
              "    <tr>\n",
              "      <th>25%</th>\n",
              "      <td>0.0</td>\n",
              "      <td>0.000000</td>\n",
              "      <td>0.000000</td>\n",
              "      <td>0.000000</td>\n",
              "      <td>0.000000</td>\n",
              "      <td>0.000000</td>\n",
              "      <td>0.000000</td>\n",
              "      <td>0.000000</td>\n",
              "      <td>0.000000</td>\n",
              "      <td>0.000000</td>\n",
              "      <td>0.000000</td>\n",
              "    </tr>\n",
              "    <tr>\n",
              "      <th>50%</th>\n",
              "      <td>0.0</td>\n",
              "      <td>0.000000</td>\n",
              "      <td>0.000000</td>\n",
              "      <td>0.000000</td>\n",
              "      <td>0.000000</td>\n",
              "      <td>0.000000</td>\n",
              "      <td>0.000000</td>\n",
              "      <td>0.000000</td>\n",
              "      <td>0.000000</td>\n",
              "      <td>0.000000</td>\n",
              "      <td>0.000000</td>\n",
              "    </tr>\n",
              "    <tr>\n",
              "      <th>75%</th>\n",
              "      <td>0.0</td>\n",
              "      <td>1.000000</td>\n",
              "      <td>1.000000</td>\n",
              "      <td>1.000000</td>\n",
              "      <td>1.000000</td>\n",
              "      <td>1.000000</td>\n",
              "      <td>1.000000</td>\n",
              "      <td>1.000000</td>\n",
              "      <td>1.000000</td>\n",
              "      <td>1.000000</td>\n",
              "      <td>1.000000</td>\n",
              "    </tr>\n",
              "    <tr>\n",
              "      <th>max</th>\n",
              "      <td>0.0</td>\n",
              "      <td>1.000000</td>\n",
              "      <td>1.000000</td>\n",
              "      <td>1.000000</td>\n",
              "      <td>1.000000</td>\n",
              "      <td>1.000000</td>\n",
              "      <td>1.000000</td>\n",
              "      <td>1.000000</td>\n",
              "      <td>1.000000</td>\n",
              "      <td>1.000000</td>\n",
              "      <td>1.000000</td>\n",
              "    </tr>\n",
              "  </tbody>\n",
              "</table>\n",
              "</div>"
            ],
            "text/plain": [
              "         python            css  ...            php          flask\n",
              "count  100042.0  100042.000000  ...  100042.000000  100042.000000\n",
              "mean        0.0       0.375002  ...       0.383519       0.288129\n",
              "std         0.0       0.484126  ...       0.486245       0.452894\n",
              "min         0.0       0.000000  ...       0.000000       0.000000\n",
              "25%         0.0       0.000000  ...       0.000000       0.000000\n",
              "50%         0.0       0.000000  ...       0.000000       0.000000\n",
              "75%         0.0       1.000000  ...       1.000000       1.000000\n",
              "max         0.0       1.000000  ...       1.000000       1.000000\n",
              "\n",
              "[8 rows x 11 columns]"
            ]
          },
          "metadata": {
            "tags": []
          },
          "execution_count": 8
        }
      ]
    },
    {
      "cell_type": "code",
      "metadata": {
        "id": "1j7KyIgvkCjM",
        "colab_type": "code",
        "outputId": "90e326a6-d90b-4d23-f571-8dd21c9ba621",
        "colab": {
          "base_uri": "https://localhost:8080/",
          "height": 195
        }
      },
      "source": [
        "data.tail()"
      ],
      "execution_count": 9,
      "outputs": [
        {
          "output_type": "execute_result",
          "data": {
            "text/html": [
              "<div>\n",
              "<style scoped>\n",
              "    .dataframe tbody tr th:only-of-type {\n",
              "        vertical-align: middle;\n",
              "    }\n",
              "\n",
              "    .dataframe tbody tr th {\n",
              "        vertical-align: top;\n",
              "    }\n",
              "\n",
              "    .dataframe thead th {\n",
              "        text-align: right;\n",
              "    }\n",
              "</style>\n",
              "<table border=\"1\" class=\"dataframe\">\n",
              "  <thead>\n",
              "    <tr style=\"text-align: right;\">\n",
              "      <th></th>\n",
              "      <th>Questions</th>\n",
              "      <th>python</th>\n",
              "      <th>css</th>\n",
              "      <th>java</th>\n",
              "      <th>web-scraping</th>\n",
              "      <th>git</th>\n",
              "      <th>javascript</th>\n",
              "      <th>reactjs</th>\n",
              "      <th>node.js</th>\n",
              "      <th>jquery</th>\n",
              "      <th>php</th>\n",
              "      <th>flask</th>\n",
              "    </tr>\n",
              "  </thead>\n",
              "  <tbody>\n",
              "    <tr>\n",
              "      <th>100037</th>\n",
              "      <td>Callback with jQuery .get() function</td>\n",
              "      <td>0.0</td>\n",
              "      <td>0.0</td>\n",
              "      <td>1.0</td>\n",
              "      <td>1.0</td>\n",
              "      <td>0.0</td>\n",
              "      <td>1.0</td>\n",
              "      <td>1.0</td>\n",
              "      <td>1.0</td>\n",
              "      <td>1.0</td>\n",
              "      <td>0.0</td>\n",
              "      <td>0.0</td>\n",
              "    </tr>\n",
              "    <tr>\n",
              "      <th>100038</th>\n",
              "      <td>How to pass props to a React Component at the ...</td>\n",
              "      <td>0.0</td>\n",
              "      <td>1.0</td>\n",
              "      <td>1.0</td>\n",
              "      <td>0.0</td>\n",
              "      <td>1.0</td>\n",
              "      <td>1.0</td>\n",
              "      <td>1.0</td>\n",
              "      <td>0.0</td>\n",
              "      <td>1.0</td>\n",
              "      <td>0.0</td>\n",
              "      <td>1.0</td>\n",
              "    </tr>\n",
              "    <tr>\n",
              "      <th>100039</th>\n",
              "      <td>RESTEasy client API file upload to python/Flask</td>\n",
              "      <td>0.0</td>\n",
              "      <td>0.0</td>\n",
              "      <td>1.0</td>\n",
              "      <td>0.0</td>\n",
              "      <td>0.0</td>\n",
              "      <td>0.0</td>\n",
              "      <td>0.0</td>\n",
              "      <td>0.0</td>\n",
              "      <td>0.0</td>\n",
              "      <td>0.0</td>\n",
              "      <td>1.0</td>\n",
              "    </tr>\n",
              "    <tr>\n",
              "      <th>100040</th>\n",
              "      <td>Remove empty array elements</td>\n",
              "      <td>0.0</td>\n",
              "      <td>0.0</td>\n",
              "      <td>0.0</td>\n",
              "      <td>0.0</td>\n",
              "      <td>0.0</td>\n",
              "      <td>0.0</td>\n",
              "      <td>0.0</td>\n",
              "      <td>0.0</td>\n",
              "      <td>0.0</td>\n",
              "      <td>1.0</td>\n",
              "      <td>0.0</td>\n",
              "    </tr>\n",
              "    <tr>\n",
              "      <th>100041</th>\n",
              "      <td>Unable to access Flask web app from php curl</td>\n",
              "      <td>0.0</td>\n",
              "      <td>0.0</td>\n",
              "      <td>1.0</td>\n",
              "      <td>0.0</td>\n",
              "      <td>1.0</td>\n",
              "      <td>1.0</td>\n",
              "      <td>0.0</td>\n",
              "      <td>1.0</td>\n",
              "      <td>0.0</td>\n",
              "      <td>1.0</td>\n",
              "      <td>1.0</td>\n",
              "    </tr>\n",
              "  </tbody>\n",
              "</table>\n",
              "</div>"
            ],
            "text/plain": [
              "                                                Questions  python  ...  php  flask\n",
              "100037               Callback with jQuery .get() function     0.0  ...  0.0    0.0\n",
              "100038  How to pass props to a React Component at the ...     0.0  ...  0.0    1.0\n",
              "100039    RESTEasy client API file upload to python/Flask     0.0  ...  0.0    1.0\n",
              "100040                        Remove empty array elements     0.0  ...  1.0    0.0\n",
              "100041       Unable to access Flask web app from php curl     0.0  ...  1.0    1.0\n",
              "\n",
              "[5 rows x 12 columns]"
            ]
          },
          "metadata": {
            "tags": []
          },
          "execution_count": 9
        }
      ]
    },
    {
      "cell_type": "code",
      "metadata": {
        "id": "ESQOoFpEkijz",
        "colab_type": "code",
        "outputId": "9c566063-1ad0-4d97-8967-59e9e408fd23",
        "colab": {
          "base_uri": "https://localhost:8080/",
          "height": 195
        }
      },
      "source": [
        "data.head()"
      ],
      "execution_count": 10,
      "outputs": [
        {
          "output_type": "execute_result",
          "data": {
            "text/html": [
              "<div>\n",
              "<style scoped>\n",
              "    .dataframe tbody tr th:only-of-type {\n",
              "        vertical-align: middle;\n",
              "    }\n",
              "\n",
              "    .dataframe tbody tr th {\n",
              "        vertical-align: top;\n",
              "    }\n",
              "\n",
              "    .dataframe thead th {\n",
              "        text-align: right;\n",
              "    }\n",
              "</style>\n",
              "<table border=\"1\" class=\"dataframe\">\n",
              "  <thead>\n",
              "    <tr style=\"text-align: right;\">\n",
              "      <th></th>\n",
              "      <th>Questions</th>\n",
              "      <th>python</th>\n",
              "      <th>css</th>\n",
              "      <th>java</th>\n",
              "      <th>web-scraping</th>\n",
              "      <th>git</th>\n",
              "      <th>javascript</th>\n",
              "      <th>reactjs</th>\n",
              "      <th>node.js</th>\n",
              "      <th>jquery</th>\n",
              "      <th>php</th>\n",
              "      <th>flask</th>\n",
              "    </tr>\n",
              "  </thead>\n",
              "  <tbody>\n",
              "    <tr>\n",
              "      <th>0</th>\n",
              "      <td>jQuery Ajax request inside Ajax request not wo...</td>\n",
              "      <td>0.0</td>\n",
              "      <td>0.0</td>\n",
              "      <td>1.0</td>\n",
              "      <td>0.0</td>\n",
              "      <td>1.0</td>\n",
              "      <td>1.0</td>\n",
              "      <td>1.0</td>\n",
              "      <td>0.0</td>\n",
              "      <td>1.0</td>\n",
              "      <td>1.0</td>\n",
              "      <td>1.0</td>\n",
              "    </tr>\n",
              "    <tr>\n",
              "      <th>1</th>\n",
              "      <td>all image object changing in one css after click</td>\n",
              "      <td>0.0</td>\n",
              "      <td>1.0</td>\n",
              "      <td>1.0</td>\n",
              "      <td>0.0</td>\n",
              "      <td>0.0</td>\n",
              "      <td>1.0</td>\n",
              "      <td>0.0</td>\n",
              "      <td>0.0</td>\n",
              "      <td>0.0</td>\n",
              "      <td>0.0</td>\n",
              "      <td>0.0</td>\n",
              "    </tr>\n",
              "    <tr>\n",
              "      <th>2</th>\n",
              "      <td>Error while pushing to Heroku: Cannot find mod...</td>\n",
              "      <td>0.0</td>\n",
              "      <td>0.0</td>\n",
              "      <td>1.0</td>\n",
              "      <td>1.0</td>\n",
              "      <td>1.0</td>\n",
              "      <td>1.0</td>\n",
              "      <td>1.0</td>\n",
              "      <td>1.0</td>\n",
              "      <td>0.0</td>\n",
              "      <td>0.0</td>\n",
              "      <td>0.0</td>\n",
              "    </tr>\n",
              "    <tr>\n",
              "      <th>3</th>\n",
              "      <td>Scraping data from all asp.net pages with AJAX...</td>\n",
              "      <td>0.0</td>\n",
              "      <td>0.0</td>\n",
              "      <td>0.0</td>\n",
              "      <td>1.0</td>\n",
              "      <td>0.0</td>\n",
              "      <td>0.0</td>\n",
              "      <td>0.0</td>\n",
              "      <td>0.0</td>\n",
              "      <td>0.0</td>\n",
              "      <td>1.0</td>\n",
              "      <td>0.0</td>\n",
              "    </tr>\n",
              "    <tr>\n",
              "      <th>4</th>\n",
              "      <td>How do I remove a particular element from an a...</td>\n",
              "      <td>0.0</td>\n",
              "      <td>0.0</td>\n",
              "      <td>0.0</td>\n",
              "      <td>0.0</td>\n",
              "      <td>0.0</td>\n",
              "      <td>1.0</td>\n",
              "      <td>0.0</td>\n",
              "      <td>0.0</td>\n",
              "      <td>0.0</td>\n",
              "      <td>0.0</td>\n",
              "      <td>0.0</td>\n",
              "    </tr>\n",
              "  </tbody>\n",
              "</table>\n",
              "</div>"
            ],
            "text/plain": [
              "                                           Questions  python  ...  php  flask\n",
              "0  jQuery Ajax request inside Ajax request not wo...     0.0  ...  1.0    1.0\n",
              "1   all image object changing in one css after click     0.0  ...  0.0    0.0\n",
              "2  Error while pushing to Heroku: Cannot find mod...     0.0  ...  0.0    0.0\n",
              "3  Scraping data from all asp.net pages with AJAX...     0.0  ...  1.0    0.0\n",
              "4  How do I remove a particular element from an a...     0.0  ...  0.0    0.0\n",
              "\n",
              "[5 rows x 12 columns]"
            ]
          },
          "metadata": {
            "tags": []
          },
          "execution_count": 10
        }
      ]
    },
    {
      "cell_type": "code",
      "metadata": {
        "id": "GaW6eVwbk58b",
        "colab_type": "code",
        "outputId": "5c066870-9350-466f-dd89-83177b6ef6ca",
        "colab": {
          "base_uri": "https://localhost:8080/",
          "height": 235
        }
      },
      "source": [
        "print(len(data)-data.count())"
      ],
      "execution_count": 11,
      "outputs": [
        {
          "output_type": "stream",
          "text": [
            "Questions       0\n",
            "python          0\n",
            "css             0\n",
            "java            0\n",
            "web-scraping    0\n",
            "git             0\n",
            "javascript      0\n",
            "reactjs         0\n",
            "node.js         0\n",
            "jquery          0\n",
            "php             0\n",
            "flask           0\n",
            "dtype: int64\n"
          ],
          "name": "stdout"
        }
      ]
    },
    {
      "cell_type": "code",
      "metadata": {
        "id": "GhVeMlYllci3",
        "colab_type": "code",
        "colab": {}
      },
      "source": [
        "numeric = [col for col in data.columns if col not in ['Questions']]\n",
        "for col in numeric:\n",
        "  data[col] = data[col].fillna(0).astype(int)"
      ],
      "execution_count": 0,
      "outputs": []
    },
    {
      "cell_type": "code",
      "metadata": {
        "id": "GnP1ZMGOmJPL",
        "colab_type": "code",
        "outputId": "aca4d2c1-3155-4735-e18e-97c5830469b4",
        "colab": {
          "base_uri": "https://localhost:8080/",
          "height": 235
        }
      },
      "source": [
        "print(len(data)-data.count())\n"
      ],
      "execution_count": 13,
      "outputs": [
        {
          "output_type": "stream",
          "text": [
            "Questions       0\n",
            "python          0\n",
            "css             0\n",
            "java            0\n",
            "web-scraping    0\n",
            "git             0\n",
            "javascript      0\n",
            "reactjs         0\n",
            "node.js         0\n",
            "jquery          0\n",
            "php             0\n",
            "flask           0\n",
            "dtype: int64\n"
          ],
          "name": "stdout"
        }
      ]
    },
    {
      "cell_type": "code",
      "metadata": {
        "id": "grxXqlaXut51",
        "colab_type": "code",
        "colab": {}
      },
      "source": [
        "numeric = [col for col in data.columns if col not in ['Questions']]\n",
        "for col in numeric:\n",
        "  data[col] = data[col].astype(int)"
      ],
      "execution_count": 0,
      "outputs": []
    },
    {
      "cell_type": "code",
      "metadata": {
        "id": "r-qBQABYuxBg",
        "colab_type": "code",
        "outputId": "71319118-35cf-4cd9-df72-184caef4bf01",
        "colab": {
          "base_uri": "https://localhost:8080/",
          "height": 195
        }
      },
      "source": [
        "data.head()"
      ],
      "execution_count": 15,
      "outputs": [
        {
          "output_type": "execute_result",
          "data": {
            "text/html": [
              "<div>\n",
              "<style scoped>\n",
              "    .dataframe tbody tr th:only-of-type {\n",
              "        vertical-align: middle;\n",
              "    }\n",
              "\n",
              "    .dataframe tbody tr th {\n",
              "        vertical-align: top;\n",
              "    }\n",
              "\n",
              "    .dataframe thead th {\n",
              "        text-align: right;\n",
              "    }\n",
              "</style>\n",
              "<table border=\"1\" class=\"dataframe\">\n",
              "  <thead>\n",
              "    <tr style=\"text-align: right;\">\n",
              "      <th></th>\n",
              "      <th>Questions</th>\n",
              "      <th>python</th>\n",
              "      <th>css</th>\n",
              "      <th>java</th>\n",
              "      <th>web-scraping</th>\n",
              "      <th>git</th>\n",
              "      <th>javascript</th>\n",
              "      <th>reactjs</th>\n",
              "      <th>node.js</th>\n",
              "      <th>jquery</th>\n",
              "      <th>php</th>\n",
              "      <th>flask</th>\n",
              "    </tr>\n",
              "  </thead>\n",
              "  <tbody>\n",
              "    <tr>\n",
              "      <th>0</th>\n",
              "      <td>jQuery Ajax request inside Ajax request not wo...</td>\n",
              "      <td>0</td>\n",
              "      <td>0</td>\n",
              "      <td>1</td>\n",
              "      <td>0</td>\n",
              "      <td>1</td>\n",
              "      <td>1</td>\n",
              "      <td>1</td>\n",
              "      <td>0</td>\n",
              "      <td>1</td>\n",
              "      <td>1</td>\n",
              "      <td>1</td>\n",
              "    </tr>\n",
              "    <tr>\n",
              "      <th>1</th>\n",
              "      <td>all image object changing in one css after click</td>\n",
              "      <td>0</td>\n",
              "      <td>1</td>\n",
              "      <td>1</td>\n",
              "      <td>0</td>\n",
              "      <td>0</td>\n",
              "      <td>1</td>\n",
              "      <td>0</td>\n",
              "      <td>0</td>\n",
              "      <td>0</td>\n",
              "      <td>0</td>\n",
              "      <td>0</td>\n",
              "    </tr>\n",
              "    <tr>\n",
              "      <th>2</th>\n",
              "      <td>Error while pushing to Heroku: Cannot find mod...</td>\n",
              "      <td>0</td>\n",
              "      <td>0</td>\n",
              "      <td>1</td>\n",
              "      <td>1</td>\n",
              "      <td>1</td>\n",
              "      <td>1</td>\n",
              "      <td>1</td>\n",
              "      <td>1</td>\n",
              "      <td>0</td>\n",
              "      <td>0</td>\n",
              "      <td>0</td>\n",
              "    </tr>\n",
              "    <tr>\n",
              "      <th>3</th>\n",
              "      <td>Scraping data from all asp.net pages with AJAX...</td>\n",
              "      <td>0</td>\n",
              "      <td>0</td>\n",
              "      <td>0</td>\n",
              "      <td>1</td>\n",
              "      <td>0</td>\n",
              "      <td>0</td>\n",
              "      <td>0</td>\n",
              "      <td>0</td>\n",
              "      <td>0</td>\n",
              "      <td>1</td>\n",
              "      <td>0</td>\n",
              "    </tr>\n",
              "    <tr>\n",
              "      <th>4</th>\n",
              "      <td>How do I remove a particular element from an a...</td>\n",
              "      <td>0</td>\n",
              "      <td>0</td>\n",
              "      <td>0</td>\n",
              "      <td>0</td>\n",
              "      <td>0</td>\n",
              "      <td>1</td>\n",
              "      <td>0</td>\n",
              "      <td>0</td>\n",
              "      <td>0</td>\n",
              "      <td>0</td>\n",
              "      <td>0</td>\n",
              "    </tr>\n",
              "  </tbody>\n",
              "</table>\n",
              "</div>"
            ],
            "text/plain": [
              "                                           Questions  python  ...  php  flask\n",
              "0  jQuery Ajax request inside Ajax request not wo...       0  ...    1      1\n",
              "1   all image object changing in one css after click       0  ...    0      0\n",
              "2  Error while pushing to Heroku: Cannot find mod...       0  ...    0      0\n",
              "3  Scraping data from all asp.net pages with AJAX...       0  ...    1      0\n",
              "4  How do I remove a particular element from an a...       0  ...    0      0\n",
              "\n",
              "[5 rows x 12 columns]"
            ]
          },
          "metadata": {
            "tags": []
          },
          "execution_count": 15
        }
      ]
    },
    {
      "cell_type": "code",
      "metadata": {
        "id": "w2UtCfrLu4FB",
        "colab_type": "code",
        "outputId": "10ace377-5235-4ab0-c722-7b0797a1efb9",
        "colab": {
          "base_uri": "https://localhost:8080/",
          "height": 202
        }
      },
      "source": [
        "for col in numeric:\n",
        "  print(data[col].sum())"
      ],
      "execution_count": 16,
      "outputs": [
        {
          "output_type": "stream",
          "text": [
            "0\n",
            "37516\n",
            "36813\n",
            "29620\n",
            "30324\n",
            "42367\n",
            "35575\n",
            "37819\n",
            "38787\n",
            "38368\n",
            "28825\n"
          ],
          "name": "stdout"
        }
      ]
    },
    {
      "cell_type": "code",
      "metadata": {
        "id": "eYu-0ZRJxqvc",
        "colab_type": "code",
        "colab": {}
      },
      "source": [
        "data = data.drop(['python'],axis=1)"
      ],
      "execution_count": 0,
      "outputs": []
    },
    {
      "cell_type": "code",
      "metadata": {
        "id": "G8xJehhix3H-",
        "colab_type": "code",
        "outputId": "d26f1d1f-b0bc-41b1-e0ae-ff02cd346796",
        "colab": {
          "base_uri": "https://localhost:8080/",
          "height": 195
        }
      },
      "source": [
        "data.head()"
      ],
      "execution_count": 18,
      "outputs": [
        {
          "output_type": "execute_result",
          "data": {
            "text/html": [
              "<div>\n",
              "<style scoped>\n",
              "    .dataframe tbody tr th:only-of-type {\n",
              "        vertical-align: middle;\n",
              "    }\n",
              "\n",
              "    .dataframe tbody tr th {\n",
              "        vertical-align: top;\n",
              "    }\n",
              "\n",
              "    .dataframe thead th {\n",
              "        text-align: right;\n",
              "    }\n",
              "</style>\n",
              "<table border=\"1\" class=\"dataframe\">\n",
              "  <thead>\n",
              "    <tr style=\"text-align: right;\">\n",
              "      <th></th>\n",
              "      <th>Questions</th>\n",
              "      <th>css</th>\n",
              "      <th>java</th>\n",
              "      <th>web-scraping</th>\n",
              "      <th>git</th>\n",
              "      <th>javascript</th>\n",
              "      <th>reactjs</th>\n",
              "      <th>node.js</th>\n",
              "      <th>jquery</th>\n",
              "      <th>php</th>\n",
              "      <th>flask</th>\n",
              "    </tr>\n",
              "  </thead>\n",
              "  <tbody>\n",
              "    <tr>\n",
              "      <th>0</th>\n",
              "      <td>jQuery Ajax request inside Ajax request not wo...</td>\n",
              "      <td>0</td>\n",
              "      <td>1</td>\n",
              "      <td>0</td>\n",
              "      <td>1</td>\n",
              "      <td>1</td>\n",
              "      <td>1</td>\n",
              "      <td>0</td>\n",
              "      <td>1</td>\n",
              "      <td>1</td>\n",
              "      <td>1</td>\n",
              "    </tr>\n",
              "    <tr>\n",
              "      <th>1</th>\n",
              "      <td>all image object changing in one css after click</td>\n",
              "      <td>1</td>\n",
              "      <td>1</td>\n",
              "      <td>0</td>\n",
              "      <td>0</td>\n",
              "      <td>1</td>\n",
              "      <td>0</td>\n",
              "      <td>0</td>\n",
              "      <td>0</td>\n",
              "      <td>0</td>\n",
              "      <td>0</td>\n",
              "    </tr>\n",
              "    <tr>\n",
              "      <th>2</th>\n",
              "      <td>Error while pushing to Heroku: Cannot find mod...</td>\n",
              "      <td>0</td>\n",
              "      <td>1</td>\n",
              "      <td>1</td>\n",
              "      <td>1</td>\n",
              "      <td>1</td>\n",
              "      <td>1</td>\n",
              "      <td>1</td>\n",
              "      <td>0</td>\n",
              "      <td>0</td>\n",
              "      <td>0</td>\n",
              "    </tr>\n",
              "    <tr>\n",
              "      <th>3</th>\n",
              "      <td>Scraping data from all asp.net pages with AJAX...</td>\n",
              "      <td>0</td>\n",
              "      <td>0</td>\n",
              "      <td>1</td>\n",
              "      <td>0</td>\n",
              "      <td>0</td>\n",
              "      <td>0</td>\n",
              "      <td>0</td>\n",
              "      <td>0</td>\n",
              "      <td>1</td>\n",
              "      <td>0</td>\n",
              "    </tr>\n",
              "    <tr>\n",
              "      <th>4</th>\n",
              "      <td>How do I remove a particular element from an a...</td>\n",
              "      <td>0</td>\n",
              "      <td>0</td>\n",
              "      <td>0</td>\n",
              "      <td>0</td>\n",
              "      <td>1</td>\n",
              "      <td>0</td>\n",
              "      <td>0</td>\n",
              "      <td>0</td>\n",
              "      <td>0</td>\n",
              "      <td>0</td>\n",
              "    </tr>\n",
              "  </tbody>\n",
              "</table>\n",
              "</div>"
            ],
            "text/plain": [
              "                                           Questions  css  ...  php  flask\n",
              "0  jQuery Ajax request inside Ajax request not wo...    0  ...    1      1\n",
              "1   all image object changing in one css after click    1  ...    0      0\n",
              "2  Error while pushing to Heroku: Cannot find mod...    0  ...    0      0\n",
              "3  Scraping data from all asp.net pages with AJAX...    0  ...    1      0\n",
              "4  How do I remove a particular element from an a...    0  ...    0      0\n",
              "\n",
              "[5 rows x 11 columns]"
            ]
          },
          "metadata": {
            "tags": []
          },
          "execution_count": 18
        }
      ]
    },
    {
      "cell_type": "code",
      "metadata": {
        "id": "hUf4keYyx4jF",
        "colab_type": "code",
        "outputId": "f6c35c77-b740-49f6-b453-5e6b47307993",
        "colab": {
          "base_uri": "https://localhost:8080/",
          "height": 34
        }
      },
      "source": [
        "data.shape"
      ],
      "execution_count": 19,
      "outputs": [
        {
          "output_type": "execute_result",
          "data": {
            "text/plain": [
              "(100042, 11)"
            ]
          },
          "metadata": {
            "tags": []
          },
          "execution_count": 19
        }
      ]
    },
    {
      "cell_type": "code",
      "metadata": {
        "id": "xsiEz2nlyonl",
        "colab_type": "code",
        "outputId": "26d8f708-9969-4fa9-c017-ac38a10d78f6",
        "colab": {
          "base_uri": "https://localhost:8080/",
          "height": 343
        }
      },
      "source": [
        "numeric.remove('python')  \n",
        "frame = []\n",
        "for col in numeric:\n",
        "    frame.append((col,data[col].sum()))\n",
        "stats = pd.DataFrame(frame,columns=['Columns','count'])\n",
        "stats"
      ],
      "execution_count": 20,
      "outputs": [
        {
          "output_type": "execute_result",
          "data": {
            "text/html": [
              "<div>\n",
              "<style scoped>\n",
              "    .dataframe tbody tr th:only-of-type {\n",
              "        vertical-align: middle;\n",
              "    }\n",
              "\n",
              "    .dataframe tbody tr th {\n",
              "        vertical-align: top;\n",
              "    }\n",
              "\n",
              "    .dataframe thead th {\n",
              "        text-align: right;\n",
              "    }\n",
              "</style>\n",
              "<table border=\"1\" class=\"dataframe\">\n",
              "  <thead>\n",
              "    <tr style=\"text-align: right;\">\n",
              "      <th></th>\n",
              "      <th>Columns</th>\n",
              "      <th>count</th>\n",
              "    </tr>\n",
              "  </thead>\n",
              "  <tbody>\n",
              "    <tr>\n",
              "      <th>0</th>\n",
              "      <td>css</td>\n",
              "      <td>37516</td>\n",
              "    </tr>\n",
              "    <tr>\n",
              "      <th>1</th>\n",
              "      <td>java</td>\n",
              "      <td>36813</td>\n",
              "    </tr>\n",
              "    <tr>\n",
              "      <th>2</th>\n",
              "      <td>web-scraping</td>\n",
              "      <td>29620</td>\n",
              "    </tr>\n",
              "    <tr>\n",
              "      <th>3</th>\n",
              "      <td>git</td>\n",
              "      <td>30324</td>\n",
              "    </tr>\n",
              "    <tr>\n",
              "      <th>4</th>\n",
              "      <td>javascript</td>\n",
              "      <td>42367</td>\n",
              "    </tr>\n",
              "    <tr>\n",
              "      <th>5</th>\n",
              "      <td>reactjs</td>\n",
              "      <td>35575</td>\n",
              "    </tr>\n",
              "    <tr>\n",
              "      <th>6</th>\n",
              "      <td>node.js</td>\n",
              "      <td>37819</td>\n",
              "    </tr>\n",
              "    <tr>\n",
              "      <th>7</th>\n",
              "      <td>jquery</td>\n",
              "      <td>38787</td>\n",
              "    </tr>\n",
              "    <tr>\n",
              "      <th>8</th>\n",
              "      <td>php</td>\n",
              "      <td>38368</td>\n",
              "    </tr>\n",
              "    <tr>\n",
              "      <th>9</th>\n",
              "      <td>flask</td>\n",
              "      <td>28825</td>\n",
              "    </tr>\n",
              "  </tbody>\n",
              "</table>\n",
              "</div>"
            ],
            "text/plain": [
              "        Columns  count\n",
              "0           css  37516\n",
              "1          java  36813\n",
              "2  web-scraping  29620\n",
              "3           git  30324\n",
              "4    javascript  42367\n",
              "5       reactjs  35575\n",
              "6       node.js  37819\n",
              "7        jquery  38787\n",
              "8           php  38368\n",
              "9         flask  28825"
            ]
          },
          "metadata": {
            "tags": []
          },
          "execution_count": 20
        }
      ]
    },
    {
      "cell_type": "code",
      "metadata": {
        "id": "6KZxDCWijyWu",
        "colab_type": "code",
        "outputId": "be6b7b75-4f1c-4e3b-b4e9-512772d54665",
        "colab": {
          "base_uri": "https://localhost:8080/",
          "height": 265
        }
      },
      "source": [
        "#Plotting a histogram\n",
        "import seaborn as sns\n",
        "plt.figure(figsize=(11,4))\n",
        "sns.barplot(numeric,stats['count'])\n",
        "plt.show()\n"
      ],
      "execution_count": 21,
      "outputs": [
        {
          "output_type": "display_data",
          "data": {
            "image/png": "[encoded data removed]",
            "text/plain": [
              "<Figure size 792x288 with 1 Axes>"
            ]
          },
          "metadata": {
            "tags": []
          }
        }
      ]
    },
    {
      "cell_type": "code",
      "metadata": {
        "id": "TGwlNsBvl4xF",
        "colab_type": "code",
        "outputId": "37ebca7b-1fa8-42f1-9eb2-a1d363e787bc",
        "colab": {
          "base_uri": "https://localhost:8080/",
          "height": 34
        }
      },
      "source": [
        "#Data Distribution as per the number of tags.\n",
        "sum_rows = data.iloc[:,1:].sum(axis=1)\n",
        "sum_rows.max()"
      ],
      "execution_count": 22,
      "outputs": [
        {
          "output_type": "execute_result",
          "data": {
            "text/plain": [
              "9"
            ]
          },
          "metadata": {
            "tags": []
          },
          "execution_count": 22
        }
      ]
    },
    {
      "cell_type": "code",
      "metadata": {
        "id": "QlRUcH44oXtO",
        "colab_type": "code",
        "outputId": "70c11b88-5cb7-40ad-ca75-67f4bcd4f4a3",
        "colab": {
          "base_uri": "https://localhost:8080/",
          "height": 185
        }
      },
      "source": [
        "sum_rows = sum_rows.value_counts()\n",
        "sum_rows"
      ],
      "execution_count": 23,
      "outputs": [
        {
          "output_type": "execute_result",
          "data": {
            "text/plain": [
              "1    19699\n",
              "2    18709\n",
              "5    14457\n",
              "6    13569\n",
              "4    13327\n",
              "3    12875\n",
              "7     6064\n",
              "8     1261\n",
              "9       81\n",
              "dtype: int64"
            ]
          },
          "metadata": {
            "tags": []
          },
          "execution_count": 23
        }
      ]
    },
    {
      "cell_type": "code",
      "metadata": {
        "id": "kdL9JfhEqcHb",
        "colab_type": "code",
        "outputId": "66eda702-1a67-4d6f-a9d3-7ebbef46ae23",
        "colab": {
          "base_uri": "https://localhost:8080/",
          "height": 298
        }
      },
      "source": [
        "from wordcloud import WordCloud , STOPWORDS\n",
        "plt.figure(figsize=(30,10))\n",
        "row_ = 2\n",
        "column_ = 2\n",
        "index_ = 1\n",
        "\n",
        "column = data[data['css']==1]\n",
        "text = column.Questions.values\n",
        "WC = WordCloud(stopwords = STOPWORDS,background_color='black').generate(\" \".join(text))\n",
        "plt.axis('off')\n",
        "plt.title('flask')\n",
        "plt.subplot(row_,column_,index_)\n",
        "plt.plot()\n",
        "plt.imshow(WC)\n",
        "\n",
        "\n",
        "plt.show()\n"
      ],
      "execution_count": 24,
      "outputs": [
        {
          "output_type": "display_data",
          "data": {
            "image/png": "[encoded data removed]",
            "text/plain": [
              "<Figure size 2160x720 with 1 Axes>"
            ]
          },
          "metadata": {
            "tags": []
          }
        }
      ]
    },
    {
      "cell_type": "code",
      "metadata": {
        "id": "Eunr3tBF1RMf",
        "colab_type": "code",
        "outputId": "734a9f43-c239-4026-fa3d-074143a44131",
        "colab": {
          "base_uri": "https://localhost:8080/",
          "height": 34
        }
      },
      "source": [
        "data.shape"
      ],
      "execution_count": 25,
      "outputs": [
        {
          "output_type": "execute_result",
          "data": {
            "text/plain": [
              "(100042, 11)"
            ]
          },
          "metadata": {
            "tags": []
          },
          "execution_count": 25
        }
      ]
    },
    {
      "cell_type": "code",
      "metadata": {
        "id": "YVhVGrQP2eoD",
        "colab_type": "code",
        "outputId": "f9c7e27b-2507-4eb3-c8f5-16b701fcbc65",
        "colab": {
          "base_uri": "https://localhost:8080/",
          "height": 67
        }
      },
      "source": [
        "#!pip3 install nltk\n",
        "import nltk\n",
        "nltk.download('stopwords')"
      ],
      "execution_count": 26,
      "outputs": [
        {
          "output_type": "stream",
          "text": [
            "[nltk_data] Downloading package stopwords to /root/nltk_data...\n",
            "[nltk_data]   Unzipping corpora/stopwords.zip.\n"
          ],
          "name": "stdout"
        },
        {
          "output_type": "execute_result",
          "data": {
            "text/plain": [
              "True"
            ]
          },
          "metadata": {
            "tags": []
          },
          "execution_count": 26
        }
      ]
    },
    {
      "cell_type": "code",
      "metadata": {
        "id": "WzyUpdWbs5OT",
        "colab_type": "code",
        "colab": {}
      },
      "source": [
        "import re\n",
        "from nltk.corpus import stopwords\n",
        "from nltk.stem.porter import PorterStemmer\n",
        "ps = PorterStemmer()\n",
        "\n",
        "corpus = []\n",
        "for i in range(0,100042):\n",
        "    ques = re.sub('[^a-zA-Z]',' ',data['Questions'][i])\n",
        "    ques = ques.lower()\n",
        "    ques = ques.split()\n",
        "    ques = [ps.stem(word) for word in ques if word not in set(stopwords.words('english'))]\n",
        "    ques = ' '.join(ques)\n",
        "    corpus.append(ques)\n",
        "\n",
        "# print([x for x in corpus])"
      ],
      "execution_count": 0,
      "outputs": []
    },
    {
      "cell_type": "code",
      "metadata": {
        "id": "HqZjCKWu08km",
        "colab_type": "code",
        "outputId": "edc8da0f-0afa-4a11-a3a3-6c78df3c9b5b",
        "colab": {
          "base_uri": "https://localhost:8080/",
          "height": 185
        }
      },
      "source": [
        "for i in range(0,10):\n",
        "  print(corpus[i])\n",
        "  "
      ],
      "execution_count": 28,
      "outputs": [
        {
          "output_type": "stream",
          "text": [
            "jqueri ajax request insid ajax request work\n",
            "imag object chang one css click\n",
            "error push heroku cannot find modul node linux x packag json\n",
            "scrape data asp net page ajax pagin implement\n",
            "remov particular element array javascript\n",
            "jgit set git uri instead http remot circleci\n",
            "link css html node js\n",
            "sort multi dimension array valu\n",
            "scrape data asp net page ajax pagin implement\n",
            "use webpack exist php js project\n"
          ],
          "name": "stdout"
        }
      ]
    },
    {
      "cell_type": "code",
      "metadata": {
        "id": "opdIqQJi4INX",
        "colab_type": "code",
        "colab": {}
      },
      "source": [
        "from sklearn.feature_extraction.text import CountVectorizer \n",
        "cv = CountVectorizer(max_features = 2500)\n",
        "x  = cv.fit_transform(corpus).toarray()\n"
      ],
      "execution_count": 0,
      "outputs": []
    },
    {
      "cell_type": "code",
      "metadata": {
        "id": "JJ11iC2s1m14",
        "colab_type": "code",
        "outputId": "2846d401-7f74-494a-ceb4-787e01b763a5",
        "colab": {
          "base_uri": "https://localhost:8080/",
          "height": 134
        }
      },
      "source": [
        "x"
      ],
      "execution_count": 30,
      "outputs": [
        {
          "output_type": "execute_result",
          "data": {
            "text/plain": [
              "array([[0, 0, 0, ..., 0, 0, 0],\n",
              "       [0, 0, 0, ..., 0, 0, 0],\n",
              "       [0, 0, 0, ..., 0, 0, 0],\n",
              "       ...,\n",
              "       [0, 0, 0, ..., 0, 0, 0],\n",
              "       [0, 0, 0, ..., 0, 0, 0],\n",
              "       [0, 0, 0, ..., 0, 0, 0]])"
            ]
          },
          "metadata": {
            "tags": []
          },
          "execution_count": 30
        }
      ]
    },
    {
      "cell_type": "code",
      "metadata": {
        "id": "UdZivBpS1sKh",
        "colab_type": "code",
        "outputId": "e5611c43-efc3-4db2-ce49-835a504392c9",
        "colab": {
          "base_uri": "https://localhost:8080/",
          "height": 284
        }
      },
      "source": [
        "y = data.iloc[:,1:]\n",
        "y.describe()"
      ],
      "execution_count": 31,
      "outputs": [
        {
          "output_type": "execute_result",
          "data": {
            "text/html": [
              "<div>\n",
              "<style scoped>\n",
              "    .dataframe tbody tr th:only-of-type {\n",
              "        vertical-align: middle;\n",
              "    }\n",
              "\n",
              "    .dataframe tbody tr th {\n",
              "        vertical-align: top;\n",
              "    }\n",
              "\n",
              "    .dataframe thead th {\n",
              "        text-align: right;\n",
              "    }\n",
              "</style>\n",
              "<table border=\"1\" class=\"dataframe\">\n",
              "  <thead>\n",
              "    <tr style=\"text-align: right;\">\n",
              "      <th></th>\n",
              "      <th>css</th>\n",
              "      <th>java</th>\n",
              "      <th>web-scraping</th>\n",
              "      <th>git</th>\n",
              "      <th>javascript</th>\n",
              "      <th>reactjs</th>\n",
              "      <th>node.js</th>\n",
              "      <th>jquery</th>\n",
              "      <th>php</th>\n",
              "      <th>flask</th>\n",
              "    </tr>\n",
              "  </thead>\n",
              "  <tbody>\n",
              "    <tr>\n",
              "      <th>count</th>\n",
              "      <td>100042.000000</td>\n",
              "      <td>100042.000000</td>\n",
              "      <td>100042.000000</td>\n",
              "      <td>100042.000000</td>\n",
              "      <td>100042.000000</td>\n",
              "      <td>100042.000000</td>\n",
              "      <td>100042.000000</td>\n",
              "      <td>100042.000000</td>\n",
              "      <td>100042.000000</td>\n",
              "      <td>100042.000000</td>\n",
              "    </tr>\n",
              "    <tr>\n",
              "      <th>mean</th>\n",
              "      <td>0.375002</td>\n",
              "      <td>0.367975</td>\n",
              "      <td>0.296076</td>\n",
              "      <td>0.303113</td>\n",
              "      <td>0.423492</td>\n",
              "      <td>0.355601</td>\n",
              "      <td>0.378031</td>\n",
              "      <td>0.387707</td>\n",
              "      <td>0.383519</td>\n",
              "      <td>0.288129</td>\n",
              "    </tr>\n",
              "    <tr>\n",
              "      <th>std</th>\n",
              "      <td>0.484126</td>\n",
              "      <td>0.482257</td>\n",
              "      <td>0.456527</td>\n",
              "      <td>0.459606</td>\n",
              "      <td>0.494114</td>\n",
              "      <td>0.478697</td>\n",
              "      <td>0.484898</td>\n",
              "      <td>0.487230</td>\n",
              "      <td>0.486245</td>\n",
              "      <td>0.452894</td>\n",
              "    </tr>\n",
              "    <tr>\n",
              "      <th>min</th>\n",
              "      <td>0.000000</td>\n",
              "      <td>0.000000</td>\n",
              "      <td>0.000000</td>\n",
              "      <td>0.000000</td>\n",
              "      <td>0.000000</td>\n",
              "      <td>0.000000</td>\n",
              "      <td>0.000000</td>\n",
              "      <td>0.000000</td>\n",
              "      <td>0.000000</td>\n",
              "      <td>0.000000</td>\n",
              "    </tr>\n",
              "    <tr>\n",
              "      <th>25%</th>\n",
              "      <td>0.000000</td>\n",
              "      <td>0.000000</td>\n",
              "      <td>0.000000</td>\n",
              "      <td>0.000000</td>\n",
              "      <td>0.000000</td>\n",
              "      <td>0.000000</td>\n",
              "      <td>0.000000</td>\n",
              "      <td>0.000000</td>\n",
              "      <td>0.000000</td>\n",
              "      <td>0.000000</td>\n",
              "    </tr>\n",
              "    <tr>\n",
              "      <th>50%</th>\n",
              "      <td>0.000000</td>\n",
              "      <td>0.000000</td>\n",
              "      <td>0.000000</td>\n",
              "      <td>0.000000</td>\n",
              "      <td>0.000000</td>\n",
              "      <td>0.000000</td>\n",
              "      <td>0.000000</td>\n",
              "      <td>0.000000</td>\n",
              "      <td>0.000000</td>\n",
              "      <td>0.000000</td>\n",
              "    </tr>\n",
              "    <tr>\n",
              "      <th>75%</th>\n",
              "      <td>1.000000</td>\n",
              "      <td>1.000000</td>\n",
              "      <td>1.000000</td>\n",
              "      <td>1.000000</td>\n",
              "      <td>1.000000</td>\n",
              "      <td>1.000000</td>\n",
              "      <td>1.000000</td>\n",
              "      <td>1.000000</td>\n",
              "      <td>1.000000</td>\n",
              "      <td>1.000000</td>\n",
              "    </tr>\n",
              "    <tr>\n",
              "      <th>max</th>\n",
              "      <td>1.000000</td>\n",
              "      <td>1.000000</td>\n",
              "      <td>1.000000</td>\n",
              "      <td>1.000000</td>\n",
              "      <td>1.000000</td>\n",
              "      <td>1.000000</td>\n",
              "      <td>1.000000</td>\n",
              "      <td>1.000000</td>\n",
              "      <td>1.000000</td>\n",
              "      <td>1.000000</td>\n",
              "    </tr>\n",
              "  </tbody>\n",
              "</table>\n",
              "</div>"
            ],
            "text/plain": [
              "                 css           java  ...            php          flask\n",
              "count  100042.000000  100042.000000  ...  100042.000000  100042.000000\n",
              "mean        0.375002       0.367975  ...       0.383519       0.288129\n",
              "std         0.484126       0.482257  ...       0.486245       0.452894\n",
              "min         0.000000       0.000000  ...       0.000000       0.000000\n",
              "25%         0.000000       0.000000  ...       0.000000       0.000000\n",
              "50%         0.000000       0.000000  ...       0.000000       0.000000\n",
              "75%         1.000000       1.000000  ...       1.000000       1.000000\n",
              "max         1.000000       1.000000  ...       1.000000       1.000000\n",
              "\n",
              "[8 rows x 10 columns]"
            ]
          },
          "metadata": {
            "tags": []
          },
          "execution_count": 31
        }
      ]
    },
    {
      "cell_type": "code",
      "metadata": {
        "id": "eB3b6WQ-12fI",
        "colab_type": "code",
        "colab": {}
      },
      "source": [
        "from sklearn.model_selection import train_test_split\n",
        "x_train,x_test,y_train,y_test = train_test_split(x,y,test_size = 0.2,random_state=99)"
      ],
      "execution_count": 0,
      "outputs": []
    },
    {
      "cell_type": "code",
      "metadata": {
        "id": "GNi6aENF3Gvw",
        "colab_type": "code",
        "outputId": "3acb3356-1161-436b-9edb-46b38c4a2b7d",
        "colab": {
          "base_uri": "https://localhost:8080/",
          "height": 84
        }
      },
      "source": [
        "print(\"X_TRAIN:\",len(x_train))\n",
        "print(\"X_TEST:\",len(x_test))\n",
        "print(\"Y_TRAIN:\",len(y_train))\n",
        "print(\"Y_TEST:\",len(y_test))"
      ],
      "execution_count": 33,
      "outputs": [
        {
          "output_type": "stream",
          "text": [
            "X_TRAIN: 80033\n",
            "X_TEST: 20009\n",
            "Y_TRAIN: 80033\n",
            "Y_TEST: 20009\n"
          ],
          "name": "stdout"
        }
      ]
    },
    {
      "cell_type": "code",
      "metadata": {
        "id": "lTnhPFS_83oV",
        "colab_type": "code",
        "outputId": "ebf5a88e-23ca-4b09-bb52-a97d2ebe6933",
        "colab": {
          "base_uri": "https://localhost:8080/",
          "height": 218
        }
      },
      "source": [
        "print(\"X\",type(x_train[0]))\n",
        "print(\"Y\",y_train.dtypes)"
      ],
      "execution_count": 34,
      "outputs": [
        {
          "output_type": "stream",
          "text": [
            "X <class 'numpy.ndarray'>\n",
            "Y css             int64\n",
            "java            int64\n",
            "web-scraping    int64\n",
            "git             int64\n",
            "javascript      int64\n",
            "reactjs         int64\n",
            "node.js         int64\n",
            "jquery          int64\n",
            "php             int64\n",
            "flask           int64\n",
            "dtype: object\n"
          ],
          "name": "stdout"
        }
      ]
    },
    {
      "cell_type": "code",
      "metadata": {
        "id": "bjGZKOzZ7VCI",
        "colab_type": "code",
        "outputId": "113307bd-3a90-410e-d8b4-92b35cf47a61",
        "colab": {
          "base_uri": "https://localhost:8080/",
          "height": 121
        }
      },
      "source": [
        "!pip3 install scikit-multilearn"
      ],
      "execution_count": 35,
      "outputs": [
        {
          "output_type": "stream",
          "text": [
            "Collecting scikit-multilearn\n",
            "\u001b[?25l  Downloading https://files.pythonhosted.org/packages/bb/1f/e6ff649c72a1cdf2c7a1d31eb21705110ce1c5d3e7e26b2cc300e1637272/scikit_multilearn-0.2.0-py3-none-any.whl (89kB)\n",
            "\r\u001b[K     |███▊                            | 10kB 19.3MB/s eta 0:00:01\r\u001b[K     |███████▍                        | 20kB 2.2MB/s eta 0:00:01\r\u001b[K     |███████████                     | 30kB 3.2MB/s eta 0:00:01\r\u001b[K     |██████████████▊                 | 40kB 2.1MB/s eta 0:00:01\r\u001b[K     |██████████████████▍             | 51kB 2.6MB/s eta 0:00:01\r\u001b[K     |██████████████████████          | 61kB 3.1MB/s eta 0:00:01\r\u001b[K     |█████████████████████████▊      | 71kB 3.6MB/s eta 0:00:01\r\u001b[K     |█████████████████████████████▍  | 81kB 4.1MB/s eta 0:00:01\r\u001b[K     |████████████████████████████████| 92kB 3.4MB/s \n",
            "\u001b[?25hInstalling collected packages: scikit-multilearn\n",
            "Successfully installed scikit-multilearn-0.2.0\n"
          ],
          "name": "stdout"
        }
      ]
    },
    {
      "cell_type": "code",
      "metadata": {
        "id": "tex9RWr13XeG",
        "colab_type": "code",
        "outputId": "318e196d-669c-4f50-b7da-f05af8327848",
        "colab": {
          "base_uri": "https://localhost:8080/",
          "height": 50
        }
      },
      "source": [
        "from skmultilearn.problem_transform import ClassifierChain\n",
        "#from sklearn.ensemble import RandomForestClassifier\n",
        "from sklearn.naive_bayes import GaussianNB\n",
        "\n",
        "#model = ClassifierChain(RandomForestClassifier(n_estimators = 100,n_jobs=-1))\n",
        "model = ClassifierChain(GaussianNB())\n",
        "model.fit(x_train,y_train)\n",
        "\n"
      ],
      "execution_count": 36,
      "outputs": [
        {
          "output_type": "execute_result",
          "data": {
            "text/plain": [
              "ClassifierChain(classifier=GaussianNB(priors=None, var_smoothing=1e-09),\n",
              "                order=None, require_dense=[True, True])"
            ]
          },
          "metadata": {
            "tags": []
          },
          "execution_count": 36
        }
      ]
    },
    {
      "cell_type": "code",
      "metadata": {
        "id": "nepqO9Br7Q7d",
        "colab_type": "code",
        "colab": {}
      },
      "source": [
        "y_predict_gauss = model.predict(x_test)"
      ],
      "execution_count": 0,
      "outputs": []
    },
    {
      "cell_type": "code",
      "metadata": {
        "id": "dKLjmGyu-7PU",
        "colab_type": "code",
        "outputId": "09c1c072-ed55-43f1-94f5-085386e60f63",
        "colab": {
          "base_uri": "https://localhost:8080/",
          "height": 34
        }
      },
      "source": [
        "from sklearn.metrics import hamming_loss,accuracy_score\n",
        "print(\"The Hamming Loss is\",hamming_loss(y_test,y_predict_gauss))"
      ],
      "execution_count": 38,
      "outputs": [
        {
          "output_type": "stream",
          "text": [
            "The Hamming Loss is 0.3554250587235744\n"
          ],
          "name": "stdout"
        }
      ]
    },
    {
      "cell_type": "code",
      "metadata": {
        "id": "9xYY-SrnAKfZ",
        "colab_type": "code",
        "outputId": "d218c163-47de-428a-8b58-0a8a12a99930",
        "colab": {
          "base_uri": "https://localhost:8080/",
          "height": 50
        }
      },
      "source": [
        "from sklearn.ensemble import RandomForestClassifier\n",
        "model_random = ClassifierChain(RandomForestClassifier(n_jobs=-1,n_estimators=100))\n",
        "model.fit(x_train,y_train)\n",
        "\n"
      ],
      "execution_count": 40,
      "outputs": [
        {
          "output_type": "execute_result",
          "data": {
            "text/plain": [
              "ClassifierChain(classifier=GaussianNB(priors=None, var_smoothing=1e-09),\n",
              "                order=None, require_dense=[True, True])"
            ]
          },
          "metadata": {
            "tags": []
          },
          "execution_count": 40
        }
      ]
    },
    {
      "cell_type": "code",
      "metadata": {
        "id": "9sFd9Vd5CAmu",
        "colab_type": "code",
        "outputId": "e90d55d2-1e03-49ec-9673-5965c94bead6",
        "colab": {
          "base_uri": "https://localhost:8080/",
          "height": 34
        }
      },
      "source": [
        "y_predict_forest = model.predict(x_test)\n",
        "print(\"The Hamming Loss is\",hamming_loss(y_test,y_predict_forest))"
      ],
      "execution_count": 41,
      "outputs": [
        {
          "output_type": "stream",
          "text": [
            "The Hamming Loss is 0.3554250587235744\n"
          ],
          "name": "stdout"
        }
      ]
    },
    {
      "cell_type": "code",
      "metadata": {
        "id": "vx1g9VP-Cgny",
        "colab_type": "code",
        "colab": {}
      },
      "source": [
        "#trying out TF-Idf Vectorizer\n",
        "from sklearn.feature_extraction.text import TfidfVectorizer\n",
        "vect = TfidfVectorizer()\n",
        "x_tf = vect.fit_transform(corpus).toarray()"
      ],
      "execution_count": 0,
      "outputs": []
    },
    {
      "cell_type": "code",
      "metadata": {
        "id": "3B2NTsX-FxRx",
        "colab_type": "code",
        "colab": {}
      },
      "source": [
        "from sklearn.model_selection import train_test_split\n",
        "x_train_tf,x_test_tf,y_train_tf,y_test_tf = train_test_split(x_tf,y,test_size = 0.2,random_state=99)"
      ],
      "execution_count": 0,
      "outputs": []
    },
    {
      "cell_type": "code",
      "metadata": {
        "id": "MuCl6_wkGBap",
        "colab_type": "code",
        "outputId": "ed0d8efc-6c63-4648-e2d5-c447c20abad9",
        "colab": {
          "base_uri": "https://localhost:8080/",
          "height": 50
        }
      },
      "source": [
        "from skmultilearn.problem_transform import ClassifierChain\n",
        "#from sklearn.ensemble import RandomForestClassifier\n",
        "from sklearn.naive_bayes import GaussianNB\n",
        "\n",
        "#model = ClassifierChain(RandomForestClassifier(n_estimators = 100,n_jobs=-1))\n",
        "model = ClassifierChain(GaussianNB())\n",
        "model.fit(x_train_tf,y_train_tf)\n"
      ],
      "execution_count": 44,
      "outputs": [
        {
          "output_type": "execute_result",
          "data": {
            "text/plain": [
              "ClassifierChain(classifier=GaussianNB(priors=None, var_smoothing=1e-09),\n",
              "                order=None, require_dense=[True, True])"
            ]
          },
          "metadata": {
            "tags": []
          },
          "execution_count": 44
        }
      ]
    },
    {
      "cell_type": "code",
      "metadata": {
        "id": "hJKTsli0GJtJ",
        "colab_type": "code",
        "colab": {}
      },
      "source": [
        "y_pred_tf_chain = model.predict(x_test_tf)"
      ],
      "execution_count": 0,
      "outputs": []
    },
    {
      "cell_type": "code",
      "metadata": {
        "id": "hFK2g35dG2um",
        "colab_type": "code",
        "outputId": "045e9fea-9c0b-4a41-a24b-daca11c54447",
        "colab": {
          "base_uri": "https://localhost:8080/",
          "height": 34
        }
      },
      "source": [
        "print(\"The Hamming Loss is\",hamming_loss(y_test,y_pred_tf_chain))"
      ],
      "execution_count": 46,
      "outputs": [
        {
          "output_type": "stream",
          "text": [
            "The Hamming Loss is 0.4183517417162277\n"
          ],
          "name": "stdout"
        }
      ]
    },
    {
      "cell_type": "code",
      "metadata": {
        "id": "lvgOvn9VKQK7",
        "colab_type": "code",
        "colab": {}
      },
      "source": [
        ""
      ],
      "execution_count": 0,
      "outputs": []
    }
  ]
}